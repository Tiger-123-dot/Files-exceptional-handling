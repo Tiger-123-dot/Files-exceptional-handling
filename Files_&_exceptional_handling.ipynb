{
  "nbformat": 4,
  "nbformat_minor": 0,
  "metadata": {
    "colab": {
      "provenance": []
    },
    "kernelspec": {
      "name": "python3",
      "display_name": "Python 3"
    },
    "language_info": {
      "name": "python"
    }
  },
  "cells": [
    {
      "cell_type": "markdown",
      "source": [
        "**Files, exceptional handling, loggin and memory management.**"
      ],
      "metadata": {
        "id": "jK4kfRAcmjoG"
      }
    },
    {
      "cell_type": "markdown",
      "source": [
        "1.What is the difference between interpreted and compiled languages?\n",
        "\n",
        "  - The entire program is translated into machine code before it runs.\n",
        "    This translation is done by a compiler.\n",
        "    Once compiled, the program can run independently of the source code.\n",
        "    Examples: C, C++, Rust"
      ],
      "metadata": {
        "id": "qQLnHIHYmuJH"
      }
    },
    {
      "cell_type": "markdown",
      "source": [
        "2.What is exception handling in python?\n",
        "\n",
        "  - Exception handling is a way to deal with errors that occur while a program is running, so the program doesn't crash unexpectedly.\n",
        "  Instead of stopping the program, you can catch the error and decide how to respond.\n"
      ],
      "metadata": {
        "id": "iUTE2-o6nIi6"
      }
    },
    {
      "cell_type": "markdown",
      "source": [
        "3.What is the purpose of the finally block in exception handling?\n",
        "\n",
        "  - The finally block is used to guarantee that certain code runs no matter what—whether an exception was raised or not."
      ],
      "metadata": {
        "id": "CR9XDYhKnL8z"
      }
    },
    {
      "cell_type": "markdown",
      "source": [
        "4.What is loggin in python?\n",
        "\n",
        "  - Logging in Python means recording messages that describe events in a program’s execution. It’s mainly used for debugging, monitoring, and tracking errors in real-time or after the program runs."
      ],
      "metadata": {
        "id": "DHC-Ol7VnPmw"
      }
    },
    {
      "cell_type": "markdown",
      "source": [
        "5.What is the significance of the __del__ method in python?\n",
        "\n",
        "  - The __del__ method is a special method in Python, called a destructor. It is automatically called when an object is about to be destroyed, i.e., when there are no more references to the object."
      ],
      "metadata": {
        "id": "Pdj4W1xOnSMV"
      }
    },
    {
      "cell_type": "markdown",
      "source": [
        "6.What is the difference between import and from__ import in python?\n",
        "\n",
        "  - import module name: This imports the entire module.\n",
        "  You must use the module name as a prefix to access functions or classes.\n",
        "\n",
        "  -from__import: This imports specific items (functions, classes, variables) from a module.\n",
        "  You can use them directly without the module name."
      ],
      "metadata": {
        "id": "gJOQ1vPonZrB"
      }
    },
    {
      "cell_type": "markdown",
      "source": [
        "7.How can you handle multiple exceptions in python?\n",
        "\n",
        "  - You can write separate except blocks for each type of exception you want to handle."
      ],
      "metadata": {
        "id": "Se2BHpxeneQd"
      }
    },
    {
      "cell_type": "markdown",
      "source": [
        "8.What is the purpose of the with statement when handling filels in python?\n",
        "\n",
        "  - The with statement is used to open and manage files safely and efficiently. It ensures that the file is automatically closed after you're done with it — even if an error occurs."
      ],
      "metadata": {
        "id": "RPuKLlA5ni1M"
      }
    },
    {
      "cell_type": "markdown",
      "source": [
        "9.What is the difference between multithreading and multiprocessing?\n",
        "\n",
        "  - Multithreading and multiprocessing are two techniques for running multiple tasks at the same time, but they work differently under the hood"
      ],
      "metadata": {
        "id": "Jozr2rdpnpuA"
      }
    },
    {
      "cell_type": "markdown",
      "source": [
        "10.What are the advantages of suign loggin in a program?\n",
        "\n",
        "  - Using the logging module in Python has many benefits compared to using simple print() statements. It provides a flexible and powerful way to track what your program is doing."
      ],
      "metadata": {
        "id": "TYuwvbNDnucI"
      }
    },
    {
      "cell_type": "markdown",
      "source": [
        "11.what is memory management in python?\n",
        "\n",
        "  - Memory management in Python refers to how the Python interpreter handles memory allocation and deallocation for variables, objects, and data structures during the program’s execution.\n",
        "\n",
        "  - Python handles most of the memory management automatically, so developers don’t have to manage memory manually (like in C or C++)."
      ],
      "metadata": {
        "id": "7ThvHs4tnxyW"
      }
    },
    {
      "cell_type": "markdown",
      "source": [
        "12.What are the basic steps involved in exception handling in python?\n",
        "\n",
        "  - Exception handling in Python follows a structured process that allows you to catch and respond to errors without crashing the program."
      ],
      "metadata": {
        "id": "892IUW6on69-"
      }
    },
    {
      "cell_type": "markdown",
      "source": [
        "13.Why is memory management important in python?\n",
        "\n",
        "  - Memory management is crucial in Python (and any programming language) because it ensures that your program:\n",
        "    - Runs efficiently\n",
        "    - Uses system resources wisely\n",
        "    - Avoids crashes or slowdowns\n",
        "    - Prevents memory leaks"
      ],
      "metadata": {
        "id": "NK_AYc9on-_L"
      }
    },
    {
      "cell_type": "markdown",
      "source": [
        "14.What is the role of try and except in exception handling?\n",
        "\n",
        "  - try block:- The try block contains code that might cause an exception.\n",
        "    Python tries to run the code in this block.\n",
        "    If no error occurs → it continues normally.\n",
        "    If an error occurs → it jumps to the except block."
      ],
      "metadata": {
        "id": "2MRckZHtoIvS"
      }
    },
    {
      "cell_type": "markdown",
      "source": [
        "15.How does python's garbage collection system work?\n",
        "\n",
        "  - Garbage collection in Python is the process of automatically reclaiming memory by destroying objects that are no longer in use (i.e., unreachable).\n",
        "\n",
        "  - This helps manage memory efficiently and prevents memory leaks."
      ],
      "metadata": {
        "id": "RaQcaocqoMdw"
      }
    },
    {
      "cell_type": "markdown",
      "source": [
        "16.What is the purpose of the else block in exception handling?\n",
        "\n",
        "  - The else block in Python exception handling is used to define code that should run only if no exceptions were raised in the try block.\n",
        "\n"
      ],
      "metadata": {
        "id": "7u7Jx1wmoVrk"
      }
    },
    {
      "cell_type": "markdown",
      "source": [
        "17.What are the common logging levels in python?\n",
        "\n",
        "  - Python’s logging module provides several standard logging levels to indicate the severity or importance of events in your program.\n",
        "\n",
        "  These levels help you control which messages are recorded or displayed, depending on the context (e.g., development, testing, production)."
      ],
      "metadata": {
        "id": "d9EXKiqPoa60"
      }
    },
    {
      "cell_type": "markdown",
      "source": [
        "18.What is the difference between os.fork() and multiprocessing in python?\n",
        "\n",
        "  - Both os.fork() and the multiprocessing module are used to create new processes in Python, but they work very differently and are used in different contexts.\n",
        "\n",
        "  - os.fork():- Creates a child process by duplicating the current process.\n",
        "Only available on Unix/Linux/macOS (Not available on Windows).\n",
        "The child process is an exact copy of the parent process.\n",
        "You need to manage everything (like communication, synchronization) manually\n",
        "\n",
        "  - multiprocessing:- A cross-platform (works on Windows, Linux, macOS) high-level API for creating and managing processes.\n",
        "  Easier and safer to use than os.fork().\n",
        "    - Supports:\n",
        "    - Process creation\n",
        "    - Communication (via Queue, Pipe)\n",
        "    - Synchronization (Lock, Semaphore, etc.)\n",
        "    - Pooling"
      ],
      "metadata": {
        "id": "Jmbq9vG3ofE7"
      }
    },
    {
      "cell_type": "markdown",
      "source": [
        "19.What is the importance of closing a file in python?\n",
        "\n",
        "  - Closing a file is essential because it ensures that all data is properly written to disk and that system resources are released.\n"
      ],
      "metadata": {
        "id": "TfpO06q0okGe"
      }
    },
    {
      "cell_type": "markdown",
      "source": [
        "20.What is the difference between file.read() and file.readline() in python?\n",
        "\n",
        "  - file.read():-Reads the entire file content at once as a single string.\n",
        "Can take an optional argument to read a specific number of characters.\n",
        "\n",
        "  - file.readline():- Reads only one line from the file at a time (up to the next newline \\n).\n",
        "Useful for reading large files line by line."
      ],
      "metadata": {
        "id": "IGB8JH5LooIL"
      }
    },
    {
      "cell_type": "markdown",
      "source": [
        "21.What is the loggin module in python used for?\n",
        "\n",
        "  - The logging module in Python is used to track events that happen when your program runs. It provides a flexible way to:\n",
        "    - Record messages\n",
        "    - Report errors\n",
        "    - Debug issues\n",
        "    - Monitor execution"
      ],
      "metadata": {
        "id": "gIn7BrYxotFR"
      }
    },
    {
      "cell_type": "markdown",
      "source": [
        "22.What is the os module in python used for in file handling?\n",
        "\n",
        "  - The os module in Python provides a way to interact with the operating system, especially for tasks related to file and directory handling."
      ],
      "metadata": {
        "id": "S-jS9WmqowuH"
      }
    },
    {
      "cell_type": "markdown",
      "source": [
        "23.What are the challenges associated with memory management in python?\n",
        "\n",
        "  - While Python has automatic memory management, it’s not perfect. Developers still face some challenges, especially in large or long-running applications."
      ],
      "metadata": {
        "id": "4RyS6ILNpCkB"
      }
    },
    {
      "cell_type": "markdown",
      "source": [
        "24.How do you raise an exception manually in python?\n",
        "\n",
        "  - To raise an exception manually, you use the raise keyword.\n",
        "    This is useful when you want to:\n",
        "    - Stop execution if something unexpected happens\n",
        "    - Enforce rules (e.g., input validation)\n",
        "    - Trigger specific error messages for debugging or logging"
      ],
      "metadata": {
        "id": "rZAgNnm8pIO2"
      }
    },
    {
      "cell_type": "markdown",
      "source": [
        "25.Why is it important to use multithreading in certain applications?\n",
        "\n",
        "  - Multithreading allows a program to perform multiple tasks at the same time by running multiple threads within the same process.\n",
        "While Python has limitations (like the GIL), multithreading is still very useful in specific types of applications.\n",
        "In applications like GUIs or web servers, multithreading allows background tasks (e.g., loading data) to run without freezing the user interface."
      ],
      "metadata": {
        "id": "Z0kXxatjpNOt"
      }
    },
    {
      "cell_type": "code",
      "source": [
        "#1.How can you open a file for writing in python and write a string in it?\n",
        "\n",
        "# Open the file in write mode\n",
        "file = open(\"example.txt\", \"w\")\n",
        "\n",
        "# Write a string to the file\n",
        "file.write(\"Hello, this is a test string!\")\n",
        "\n",
        "# Close the file\n",
        "file.close()"
      ],
      "metadata": {
        "id": "4igTPqCrpc7D"
      },
      "execution_count": null,
      "outputs": []
    },
    {
      "cell_type": "code",
      "source": [
        "#2.Write a python program to read the contents of a file and pring each line.\n",
        "\n",
        "with open(\"example.txt\", \"r\") as file:\n",
        "    for line in file:\n",
        "        print(line, end='')\n"
      ],
      "metadata": {
        "colab": {
          "base_uri": "https://localhost:8080/"
        },
        "id": "2zomyysRpqR0",
        "outputId": "ed51b1b5-4ff7-45ac-c741-e0e1e348c548"
      },
      "execution_count": null,
      "outputs": [
        {
          "output_type": "stream",
          "name": "stdout",
          "text": [
            "Hello, this is a test string!"
          ]
        }
      ]
    },
    {
      "cell_type": "code",
      "source": [
        "#3.How would you handle a case where the file doesn't exist while trying to open it for reading?\n",
        "try:\n",
        "    with open(\"non_existent_file.txt\", \"r\") as file:\n",
        "        for line in file:\n",
        "            print(line, end='')\n",
        "except FileNotFoundError:\n",
        "    print(\"Error: The file does not exist.\")"
      ],
      "metadata": {
        "colab": {
          "base_uri": "https://localhost:8080/"
        },
        "id": "yr8pIoirpuQ9",
        "outputId": "ef5fa97e-bf4e-46e3-f2b1-11e44100c1b7"
      },
      "execution_count": null,
      "outputs": [
        {
          "output_type": "stream",
          "name": "stdout",
          "text": [
            "Error: The file does not exist.\n"
          ]
        }
      ]
    },
    {
      "cell_type": "code",
      "source": [
        "#4.Write a python script that reads from one file and writes its content to anther file.\n",
        "source_file = \"source.txt\"\n",
        "destination_file = \"destination.txt\"\n",
        "\n",
        "try:\n",
        "    with open(source_file, \"r\") as src:\n",
        "        content = src.read()\n",
        "\n",
        "    with open(destination_file, \"w\") as dest:\n",
        "        dest.write(content)\n",
        "\n",
        "    print(f\"Content copied from {source_file} to {destination_file} successfully.\")\n",
        "\n",
        "except FileNotFoundError:\n",
        "    print(f\"Error: The file '{source_file}' does not exist.\")"
      ],
      "metadata": {
        "colab": {
          "base_uri": "https://localhost:8080/"
        },
        "id": "WvhvJqKLpzUL",
        "outputId": "a006efbc-0583-4d56-b0c0-dea0e778c51d"
      },
      "execution_count": null,
      "outputs": [
        {
          "output_type": "stream",
          "name": "stdout",
          "text": [
            "Error: The file 'source.txt' does not exist.\n"
          ]
        }
      ]
    },
    {
      "cell_type": "code",
      "source": [
        "#5.How would you catch and handle division by zero error in python?\n",
        "try:\n",
        "    numerator = 10\n",
        "    denominator = 0\n",
        "    result = numerator / denominator\n",
        "except ZeroDivisionError:\n",
        "    print(\"Error: Cannot divide by zero!\")\n",
        "else:\n",
        "    print(\"Result is:\", result)\n"
      ],
      "metadata": {
        "colab": {
          "base_uri": "https://localhost:8080/"
        },
        "id": "4NvJckYIqGoD",
        "outputId": "1190b160-8a7e-4802-a0a5-553533b580c6"
      },
      "execution_count": null,
      "outputs": [
        {
          "output_type": "stream",
          "name": "stdout",
          "text": [
            "Error: Cannot divide by zero!\n"
          ]
        }
      ]
    },
    {
      "cell_type": "code",
      "source": [
        "#6.Write a python program that lags an error message to a log file when a division by zero exception occurs.\n",
        "import logging\n",
        "\n",
        "# Configure logging to write to a file\n",
        "logging.basicConfig(filename='error.log',\n",
        "                    level=logging.ERROR,\n",
        "                    format='%(asctime)s - %(levelname)s - %(message)s')\n",
        "\n",
        "try:\n",
        "    numerator = 10\n",
        "    denominator = 0\n",
        "    result = numerator / denominator\n",
        "except ZeroDivisionError as e:\n",
        "    logging.error(\"Division by zero error occurred: %s\", e)\n",
        "    print(\"An error occurred. Check 'error.log' for details.\")\n",
        "else:\n",
        "    print(\"Result is:\", result)\n"
      ],
      "metadata": {
        "colab": {
          "base_uri": "https://localhost:8080/"
        },
        "id": "k0-GyC0tqKUP",
        "outputId": "13f6ce62-85a7-4a00-a16b-54cd068c608d"
      },
      "execution_count": null,
      "outputs": [
        {
          "output_type": "stream",
          "name": "stderr",
          "text": [
            "ERROR:root:Division by zero error occurred: division by zero\n"
          ]
        },
        {
          "output_type": "stream",
          "name": "stdout",
          "text": [
            "An error occurred. Check 'error.log' for details.\n"
          ]
        }
      ]
    },
    {
      "cell_type": "code",
      "source": [
        "#7.How do you log information at different levels(INFO,ERROR,WARNING) in python usig the loggin module?\n",
        "\n",
        "import logging\n",
        "\n",
        "# Configure logging: logs go to console with a simple format\n",
        "logging.basicConfig(level=logging.DEBUG,\n",
        "                    format='%(levelname)s: %(message)s')\n",
        "\n",
        "logging.info(\"This is an info message.\")\n",
        "logging.warning(\"This is a warning message.\")\n",
        "logging.error(\"This is an error message.\")\n",
        "logging.debug(\"This is a debug message.\")\n",
        "logging.critical(\"This is a critical message.\")\n"
      ],
      "metadata": {
        "colab": {
          "base_uri": "https://localhost:8080/"
        },
        "id": "cfABWqmUqP3f",
        "outputId": "f7d92389-8fe6-471e-9095-be73bdbd9633"
      },
      "execution_count": null,
      "outputs": [
        {
          "output_type": "stream",
          "name": "stderr",
          "text": [
            "WARNING:root:This is a warning message.\n",
            "ERROR:root:This is an error message.\n",
            "CRITICAL:root:This is a critical message.\n"
          ]
        }
      ]
    },
    {
      "cell_type": "code",
      "source": [
        "#8Write a program to handle a file opening error using exception handling?\n",
        "try:\n",
        "    with open(\"somefile.txt\", \"r\") as file:\n",
        "        content = file.read()\n",
        "        print(content)\n",
        "except FileNotFoundError:\n",
        "    print(\"Error: The file 'somefile.txt' was not found.\")\n",
        "except IOError:\n",
        "    print(\"Error: An I/O error occurred while trying to open the file.\")\n",
        "\n"
      ],
      "metadata": {
        "colab": {
          "base_uri": "https://localhost:8080/"
        },
        "id": "L58kqZGfqWOd",
        "outputId": "193e0656-9698-46f5-f93f-1973de35ab33"
      },
      "execution_count": null,
      "outputs": [
        {
          "output_type": "stream",
          "name": "stdout",
          "text": [
            "Error: The file 'somefile.txt' was not found.\n"
          ]
        }
      ]
    },
    {
      "cell_type": "code",
      "source": [
        "#9.How can you read a file line by line and store its content in a list in Python?\n",
        "lines = []\n",
        "with open(\"example.txt\", \"r\") as file:\n",
        "    for line in file:\n",
        "        lines.append(line.rstrip('\\n'))  # Remove newline characters\n",
        "print(lines)\n",
        "\n",
        "with open(\"example.txt\", \"r\") as file:\n",
        "    lines = [line.rstrip('\\n') for line in file.readlines()]\n",
        "print(lines)\n"
      ],
      "metadata": {
        "colab": {
          "base_uri": "https://localhost:8080/"
        },
        "id": "9H5obMjlyTgY",
        "outputId": "a8da1348-35d5-4f62-a796-61f97b81d26b"
      },
      "execution_count": null,
      "outputs": [
        {
          "output_type": "stream",
          "name": "stdout",
          "text": [
            "['Hello, this is a test string!']\n",
            "['Hello, this is a test string!']\n"
          ]
        }
      ]
    },
    {
      "cell_type": "code",
      "source": [
        "#10.How can you append data to an existing file in Python>\n",
        "with open(\"example.txt\", \"a\") as file:\n",
        "    file.write(\"This text will be added at the end.\\n\")\n"
      ],
      "metadata": {
        "id": "TSzznR7pyizN"
      },
      "execution_count": null,
      "outputs": []
    },
    {
      "cell_type": "code",
      "source": [
        "#11.Write a Python program that uses a try-except block to handle an error when attempting to access a\n",
        "#dictionary key that doesn't existF?\n",
        "my_dict = {\"name\": \"Alice\", \"age\": 30}\n",
        "\n",
        "try:\n",
        "    value = my_dict[\"address\"]  # Key does not exist\n",
        "except KeyError:\n",
        "    print(\"Error: The key 'address' does not exist in the dictionary.\")\n",
        "else:\n",
        "    print(\"Address:\", value)\n"
      ],
      "metadata": {
        "colab": {
          "base_uri": "https://localhost:8080/"
        },
        "id": "FGEX1739yunX",
        "outputId": "85c213ae-8d19-4a98-c391-9818158e5cc2"
      },
      "execution_count": null,
      "outputs": [
        {
          "output_type": "stream",
          "name": "stdout",
          "text": [
            "Error: The key 'address' does not exist in the dictionary.\n"
          ]
        }
      ]
    },
    {
      "cell_type": "code",
      "source": [
        "#12.Write a program that demonstrates using multiple except blocks to handle different types of exceptions.\n",
        "try:\n",
        "    num1 = int(input(\"Enter first number: \"))\n",
        "    num2 = int(input(\"Enter second number: \"))\n",
        "    result = num1 / num2\n",
        "    print(\"Result:\", result)\n",
        "except ZeroDivisionError:\n",
        "    print(\"Error: Cannot divide by zero!\")\n",
        "except ValueError:\n",
        "    print(\"Error: Please enter valid integers!\")\n",
        "except Exception as e:\n",
        "    print(\"An unexpected error occurred:\", e)\n"
      ],
      "metadata": {
        "colab": {
          "base_uri": "https://localhost:8080/"
        },
        "id": "cMB2fdQ9y6ro",
        "outputId": "c97020ea-3b52-48e5-80fc-24adae692ca5"
      },
      "execution_count": null,
      "outputs": [
        {
          "output_type": "stream",
          "name": "stdout",
          "text": [
            "Enter first number: 90\n",
            "Enter second number: 78\n",
            "Result: 1.1538461538461537\n"
          ]
        }
      ]
    },
    {
      "cell_type": "code",
      "source": [
        "#13.How would you check if a file exists before attempting to read it in Python.\n",
        "import os\n",
        "\n",
        "file_path = \"example.txt\"\n",
        "\n",
        "if os.path.exists(file_path):\n",
        "    with open(file_path, \"r\") as file:\n",
        "        content = file.read()\n",
        "        print(content)\n",
        "else:\n",
        "    print(f\"File '{file_path}' does not exist.\")\n",
        "\n"
      ],
      "metadata": {
        "colab": {
          "base_uri": "https://localhost:8080/"
        },
        "id": "zDW8mbASzEmw",
        "outputId": "8dcfaa64-1cf1-4ce9-c168-4d9b90c3f345"
      },
      "execution_count": null,
      "outputs": [
        {
          "output_type": "stream",
          "name": "stdout",
          "text": [
            "Hello, this is a test string!This text will be added at the end.\n",
            "\n"
          ]
        }
      ]
    },
    {
      "cell_type": "code",
      "source": [
        "#14.&7F Write a program that uses the logging module to log both informational and error messagesF\n",
        "import logging\n",
        "\n",
        "# Configure logging to write to console with a simple format\n",
        "logging.basicConfig(level=logging.DEBUG,\n",
        "                    format='%(asctime)s - %(levelname)s - %(message)s')\n",
        "\n",
        "# Log an informational message\n",
        "logging.info(\"Program started successfully.\")\n",
        "\n",
        "try:\n",
        "    x = 10\n",
        "    y = 0\n",
        "    result = x / y\n",
        "except ZeroDivisionError:\n",
        "    logging.error(\"Division by zero error occurred!\")\n",
        "\n",
        "logging.info(\"Program ended.\")\n"
      ],
      "metadata": {
        "colab": {
          "base_uri": "https://localhost:8080/"
        },
        "id": "R6nRFGrnzTK4",
        "outputId": "14b28b86-b7e0-491f-f3e4-aef6a5f2db44"
      },
      "execution_count": null,
      "outputs": [
        {
          "output_type": "stream",
          "name": "stderr",
          "text": [
            "ERROR:root:Division by zero error occurred!\n"
          ]
        }
      ]
    },
    {
      "cell_type": "code",
      "source": [
        "#15.Write a Python program that prints the content of a file and handles the case when the file is empty.\n",
        "file_path = \"example.txt\"\n",
        "\n",
        "try:\n",
        "    with open(file_path, \"r\") as file:\n",
        "        content = file.read()\n",
        "        if content:\n",
        "            print(content)\n",
        "        else:\n",
        "            print(\"The file is empty.\")\n",
        "except FileNotFoundError:\n",
        "    print(f\"Error: The file '{file_path}' does not exist.\")"
      ],
      "metadata": {
        "colab": {
          "base_uri": "https://localhost:8080/"
        },
        "id": "8f5tuYhgzaJ4",
        "outputId": "e686568b-5514-4b9a-b74e-f41e95eb4436"
      },
      "execution_count": null,
      "outputs": [
        {
          "output_type": "stream",
          "name": "stdout",
          "text": [
            "Hello, this is a test string!This text will be added at the end.\n",
            "\n"
          ]
        }
      ]
    },
    {
      "cell_type": "code",
      "source": [
        "#16.Demonstrate how to use memory profiling to check the memory usage of a small program.\n",
        "\n",
        "pip install memory_profiler\n",
        "\n",
        "from memory_profiler import profile\n",
        "\n",
        "@profile\n",
        "def my_function():\n",
        "    a = [i for i in range(100000)]  # Allocate a big list\n",
        "    b = [i*i for i in range(100000)]\n",
        "    return a, b\n",
        "\n",
        "if __name__ == \"__main__\":\n",
        "    my_function()\n"
      ],
      "metadata": {
        "colab": {
          "base_uri": "https://localhost:8080/",
          "height": 383
        },
        "id": "sYd9B__jzjTQ",
        "outputId": "bc6713b5-7775-4524-8ed5-f8d4d9841f28"
      },
      "execution_count": null,
      "outputs": [
        {
          "output_type": "error",
          "ename": "ModuleNotFoundError",
          "evalue": "No module named 'memory_profiler'",
          "traceback": [
            "\u001b[0;31m---------------------------------------------------------------------------\u001b[0m",
            "\u001b[0;31mModuleNotFoundError\u001b[0m                       Traceback (most recent call last)",
            "\u001b[0;32m/tmp/ipython-input-4293681062.py\u001b[0m in \u001b[0;36m<cell line: 0>\u001b[0;34m()\u001b[0m\n\u001b[1;32m      1\u001b[0m \u001b[0;31m#16.&)F Demonstrate how to use memory profiling to check the memory usage of a small programF\u001b[0m\u001b[0;34m\u001b[0m\u001b[0;34m\u001b[0m\u001b[0m\n\u001b[0;32m----> 2\u001b[0;31m \u001b[0;32mfrom\u001b[0m \u001b[0mmemory_profiler\u001b[0m \u001b[0;32mimport\u001b[0m \u001b[0mprofile\u001b[0m\u001b[0;34m\u001b[0m\u001b[0;34m\u001b[0m\u001b[0m\n\u001b[0m\u001b[1;32m      3\u001b[0m \u001b[0;34m\u001b[0m\u001b[0m\n\u001b[1;32m      4\u001b[0m \u001b[0;34m@\u001b[0m\u001b[0mprofile\u001b[0m\u001b[0;34m\u001b[0m\u001b[0;34m\u001b[0m\u001b[0m\n\u001b[1;32m      5\u001b[0m \u001b[0;32mdef\u001b[0m \u001b[0mmy_function\u001b[0m\u001b[0;34m(\u001b[0m\u001b[0;34m)\u001b[0m\u001b[0;34m:\u001b[0m\u001b[0;34m\u001b[0m\u001b[0;34m\u001b[0m\u001b[0m\n",
            "\u001b[0;31mModuleNotFoundError\u001b[0m: No module named 'memory_profiler'",
            "",
            "\u001b[0;31m---------------------------------------------------------------------------\u001b[0;32m\nNOTE: If your import is failing due to a missing package, you can\nmanually install dependencies using either !pip or !apt.\n\nTo view examples of installing some common dependencies, click the\n\"Open Examples\" button below.\n\u001b[0;31m---------------------------------------------------------------------------\u001b[0m\n"
          ],
          "errorDetails": {
            "actions": [
              {
                "action": "open_url",
                "actionText": "Open Examples",
                "url": "/notebooks/snippets/importing_libraries.ipynb"
              }
            ]
          }
        }
      ]
    },
    {
      "cell_type": "code",
      "source": [
        "#17.Write a Python program to create and write a list of numbers to a file, one number per line.\n",
        "numbers = [10, 20, 30, 40, 50]\n",
        "\n",
        "with open(\"numbers.txt\", \"w\") as file:\n",
        "    for num in numbers:\n",
        "        file.write(str(num) + \"\\n\")\n"
      ],
      "metadata": {
        "id": "qxi-u03zzwv0"
      },
      "execution_count": null,
      "outputs": []
    },
    {
      "cell_type": "code",
      "source": [
        "#18.How would you implement a basic logging setup that logs to a file with rotation after 1MB.\n",
        "import logging\n",
        "from logging.handlers import RotatingFileHandler\n",
        "\n",
        "# Create logger\n",
        "logger = logging.getLogger(\"MyLogger\")\n",
        "logger.setLevel(logging.DEBUG)\n",
        "\n",
        "# Create rotating file handler (1 MB max, keep 3 backups)\n",
        "handler = RotatingFileHandler(\"app.log\", maxBytes=1_000_000, backupCount=3)\n",
        "handler.setLevel(logging.DEBUG)\n",
        "\n",
        "# Create formatter and add it to the handler\n",
        "formatter = logging.Formatter('%(asctime)s - %(levelname)s - %(message)s')\n",
        "handler.setFormatter(formatter)\n",
        "\n",
        "# Add handler to logger\n",
        "logger.addHandler(handler)\n",
        "\n",
        "# Log some messages\n",
        "logger.info(\"This is an info message.\")\n",
        "logger.error(\"This is an error message.\")\n"
      ],
      "metadata": {
        "colab": {
          "base_uri": "https://localhost:8080/"
        },
        "id": "fQLIVpGz0Fh3",
        "outputId": "bdaa456f-004b-4095-a55b-625ddb3917ed"
      },
      "execution_count": null,
      "outputs": [
        {
          "output_type": "stream",
          "name": "stderr",
          "text": [
            "INFO:MyLogger:This is an info message.\n",
            "ERROR:MyLogger:This is an error message.\n"
          ]
        }
      ]
    },
    {
      "cell_type": "code",
      "source": [
        "#19.Write a program that handles both IndexError and KeyError using a try-except block.\n",
        "my_list = [1, 2, 3]\n",
        "my_dict = {\"a\": 10, \"b\": 20}\n",
        "\n",
        "try:\n",
        "    # Accessing an invalid index\n",
        "    print(my_list[5])\n",
        "\n",
        "    # Accessing a non-existent key\n",
        "    print(my_dict[\"c\"])\n",
        "except IndexError:\n",
        "    print(\"Error: List index out of range.\")\n",
        "except KeyError:\n",
        "    print(\"Error: Key not found in dictionary.\")"
      ],
      "metadata": {
        "colab": {
          "base_uri": "https://localhost:8080/"
        },
        "id": "s9MAJMF30O55",
        "outputId": "26e0617a-a9d6-4562-bafc-2906ef2dad22"
      },
      "execution_count": null,
      "outputs": [
        {
          "output_type": "stream",
          "name": "stdout",
          "text": [
            "Error: List index out of range.\n"
          ]
        }
      ]
    },
    {
      "cell_type": "code",
      "source": [
        "#20.How would you open a file and read its contents using a context manager in Python\n",
        "with open(\"example.txt\", \"r\") as file:\n",
        "    content = file.read()\n",
        "    print(content)\n"
      ],
      "metadata": {
        "colab": {
          "base_uri": "https://localhost:8080/"
        },
        "id": "oT5YcP1p0Ydt",
        "outputId": "0ea83f85-d30e-40e9-a1de-24b9920afea2"
      },
      "execution_count": null,
      "outputs": [
        {
          "output_type": "stream",
          "name": "stdout",
          "text": [
            "Hello, this is a test string!This text will be added at the end.\n",
            "\n"
          ]
        }
      ]
    },
    {
      "cell_type": "code",
      "source": [
        "#21.Write a Python program that reads a file and prints the number of occurrences of a specific word.\n",
        "word_to_count = \"python\"\n",
        "file_path = \"example.txt\"\n",
        "\n",
        "try:\n",
        "    with open(file_path, \"r\") as file:\n",
        "        content = file.read().lower()  # Convert to lowercase for case-insensitive matching\n",
        "        words = content.split()\n",
        "        count = words.count(word_to_count.lower())\n",
        "    print(f\"The word '{word_to_count}' occurs {count} times in the file.\")\n",
        "except FileNotFoundError:\n",
        "    print(f\"Error: The file '{file_path}' does not exist.\")\n"
      ],
      "metadata": {
        "colab": {
          "base_uri": "https://localhost:8080/"
        },
        "id": "cXvayeOHzu1T",
        "outputId": "5b4283c3-2683-4f95-895d-faf62a4c8820"
      },
      "execution_count": null,
      "outputs": [
        {
          "output_type": "stream",
          "name": "stdout",
          "text": [
            "The word 'python' occurs 0 times in the file.\n"
          ]
        }
      ]
    },
    {
      "cell_type": "code",
      "source": [
        "#22.How can you check if a file is empty before attempting to read its contents.\n",
        "import os\n",
        "\n",
        "file_path = \"example.txt\"\n",
        "\n",
        "if os.path.exists(file_path) and os.path.getsize(file_path) > 0:\n",
        "    with open(file_path, \"r\") as file:\n",
        "        content = file.read()\n",
        "        print(content)\n",
        "else:\n",
        "    print(\"The file is empty or does not exist.\")\n"
      ],
      "metadata": {
        "colab": {
          "base_uri": "https://localhost:8080/"
        },
        "id": "aAtoiXx-0r4V",
        "outputId": "98d28581-13a3-41ef-c100-fff0776b4505"
      },
      "execution_count": null,
      "outputs": [
        {
          "output_type": "stream",
          "name": "stdout",
          "text": [
            "Hello, this is a test string!This text will be added at the end.\n",
            "\n"
          ]
        }
      ]
    },
    {
      "cell_type": "code",
      "source": [
        "#23.Write a Python program that writes to a log file when an error occurs during file handling.\n",
        "import logging\n",
        "\n",
        "# Configure logging to write errors to 'file_errors.log'\n",
        "logging.basicConfig(filename='file_errors.log',\n",
        "                    level=logging.ERROR,\n",
        "                    format='%(asctime)s - %(levelname)s - %(message)s')\n",
        "\n",
        "file_path = \"non_existent_file.txt\"\n",
        "\n",
        "try:\n",
        "    with open(file_path, \"r\") as file:\n",
        "        content = file.read()\n",
        "        print(content)\n",
        "except Exception as e:\n",
        "    logging.error(f\"Error occurred while handling the file '{file_path}': {e}\")\n",
        "    print(\"An error occurred. Please check 'file_errors.log' for details.\")\n"
      ],
      "metadata": {
        "colab": {
          "base_uri": "https://localhost:8080/"
        },
        "id": "Qeahrvmc01B1",
        "outputId": "cc9c0eea-82ef-410e-eb9a-bd35ce447de9"
      },
      "execution_count": null,
      "outputs": [
        {
          "output_type": "stream",
          "name": "stderr",
          "text": [
            "ERROR:root:Error occurred while handling the file 'non_existent_file.txt': [Errno 2] No such file or directory: 'non_existent_file.txt'\n"
          ]
        },
        {
          "output_type": "stream",
          "name": "stdout",
          "text": [
            "An error occurred. Please check 'file_errors.log' for details.\n"
          ]
        }
      ]
    }
  ]
}